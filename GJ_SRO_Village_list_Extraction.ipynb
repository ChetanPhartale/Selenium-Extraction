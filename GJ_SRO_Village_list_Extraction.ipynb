{
 "cells": [
  {
   "cell_type": "code",
   "execution_count": 10,
   "id": "2d4feccf",
   "metadata": {},
   "outputs": [],
   "source": [
    "from bs4 import BeautifulSoup\n",
    "from seleniumwire import webdriver\n",
    "import pandas as pd\n",
    "from selenium.webdriver.support.ui import WebDriverWait\n",
    "from selenium.webdriver.support import expected_conditions as EC\n",
    "from selenium.webdriver.common.by import By\n",
    "from time import sleep\n",
    "import warnings\n",
    "import os\n",
    "from selenium.webdriver.support.ui import Select\n",
    "from selenium.webdriver.support.ui import WebDriverWait\n",
    "\n",
    "warnings.filterwarnings('ignore')\n",
    "\n",
    "import io\n",
    "chrome_options = webdriver.ChromeOptions()\n",
    "# chrome_options.add_experimental_option('prefs', prefs)\n",
    "chrome_options.add_argument('--kiosk-printing')\n",
    "# chrome_options.add_argument('--headless')\n",
    "chrome_options.add_argument('log-level=3')\n",
    "# chrome_options.add_argument('--disable-gpu')\n",
    "chrome_options.add_argument(\"--window-size=1920,1080\")\n",
    "\n",
    "#! pip install easyocr\n",
    "# ! pip install undetected_chromedriver\n",
    "\n",
    "import easyocr\n",
    "import PIL\n",
    "from PIL import Image \n",
    "import numpy as np\n",
    "import requests\n",
    "import time\n",
    "import undetected_chromedriver as uc"
   ]
  },
  {
   "cell_type": "code",
   "execution_count": 67,
   "id": "26f0d659",
   "metadata": {},
   "outputs": [
    {
     "ename": "UnexpectedAlertPresentException",
     "evalue": "Alert Text: Index2 Villages not found..\nMessage: unexpected alert open: {Alert text : Index2 Villages not found..}\n  (Session info: chrome=121.0.6167.185)\nStacktrace:\n\tGetHandleVerifier [0x0053E123+48179]\n\t(No symbol) [0x004C5D01]\n\t(No symbol) [0x003AD72D]\n\t(No symbol) [0x0041B056]\n\t(No symbol) [0x00403A26]\n\t(No symbol) [0x003DB7BC]\n\t(No symbol) [0x003DC62D]\n\tGetHandleVerifier [0x00857C33+3299139]\n\tGetHandleVerifier [0x00895BF2+3553026]\n\tGetHandleVerifier [0x00890BCC+3532508]\n\tGetHandleVerifier [0x005D494E+664670]\n\t(No symbol) [0x004D0AB4]\n\t(No symbol) [0x004CBF08]\n\t(No symbol) [0x004CC02D]\n\t(No symbol) [0x004BDD00]\n\tBaseThreadInitThunk [0x754DFCC9+25]\n\tRtlGetAppContainerNamedObjectPath [0x77687C5E+286]\n\tRtlGetAppContainerNamedObjectPath [0x77687C2E+238]\n",
     "output_type": "error",
     "traceback": [
      "\u001b[1;31m---------------------------------------------------------------------------\u001b[0m",
      "\u001b[1;31mUnexpectedAlertPresentException\u001b[0m           Traceback (most recent call last)",
      "Cell \u001b[1;32mIn[67], line 57\u001b[0m\n\u001b[0;32m     54\u001b[0m sleep(\u001b[38;5;241m2\u001b[39m)\n\u001b[0;32m     56\u001b[0m Village \u001b[38;5;241m=\u001b[39m []\n\u001b[1;32m---> 57\u001b[0m \u001b[43mdriver\u001b[49m\u001b[38;5;241;43m.\u001b[39;49m\u001b[43mfind_element\u001b[49m\u001b[43m(\u001b[49m\u001b[43mBy\u001b[49m\u001b[38;5;241;43m.\u001b[39;49m\u001b[43mXPATH\u001b[49m\u001b[43m,\u001b[49m\u001b[38;5;124;43m'\u001b[39;49m\u001b[38;5;124;43m//*[@id=\u001b[39;49m\u001b[38;5;124;43m\"\u001b[39;49m\u001b[38;5;124;43mContentPlaceHolder1_ddlindex2village\u001b[39;49m\u001b[38;5;124;43m\"\u001b[39;49m\u001b[38;5;124;43m]\u001b[39;49m\u001b[38;5;124;43m'\u001b[39;49m\u001b[43m)\u001b[49m\u001b[38;5;241m.\u001b[39mclick()\n\u001b[0;32m     58\u001b[0m select \u001b[38;5;241m=\u001b[39m Select(driver\u001b[38;5;241m.\u001b[39mfind_element(By\u001b[38;5;241m.\u001b[39mXPATH,\u001b[38;5;124m'\u001b[39m\u001b[38;5;124m//*[@id=\u001b[39m\u001b[38;5;124m\"\u001b[39m\u001b[38;5;124mContentPlaceHolder1_ddlindex2village\u001b[39m\u001b[38;5;124m\"\u001b[39m\u001b[38;5;124m]\u001b[39m\u001b[38;5;124m'\u001b[39m))\n\u001b[0;32m     59\u001b[0m \u001b[38;5;28;01mfor\u001b[39;00m opt \u001b[38;5;129;01min\u001b[39;00m select\u001b[38;5;241m.\u001b[39moptions:\n",
      "File \u001b[1;32mc:\\Users\\SY-DKT-MUM-112\\mhcrawling\\Lib\\site-packages\\selenium\\webdriver\\remote\\webdriver.py:740\u001b[0m, in \u001b[0;36mWebDriver.find_element\u001b[1;34m(self, by, value)\u001b[0m\n\u001b[0;32m    737\u001b[0m     by \u001b[38;5;241m=\u001b[39m By\u001b[38;5;241m.\u001b[39mCSS_SELECTOR\n\u001b[0;32m    738\u001b[0m     value \u001b[38;5;241m=\u001b[39m \u001b[38;5;124mf\u001b[39m\u001b[38;5;124m'\u001b[39m\u001b[38;5;124m[name=\u001b[39m\u001b[38;5;124m\"\u001b[39m\u001b[38;5;132;01m{\u001b[39;00mvalue\u001b[38;5;132;01m}\u001b[39;00m\u001b[38;5;124m\"\u001b[39m\u001b[38;5;124m]\u001b[39m\u001b[38;5;124m'\u001b[39m\n\u001b[1;32m--> 740\u001b[0m \u001b[38;5;28;01mreturn\u001b[39;00m \u001b[38;5;28;43mself\u001b[39;49m\u001b[38;5;241;43m.\u001b[39;49m\u001b[43mexecute\u001b[49m\u001b[43m(\u001b[49m\u001b[43mCommand\u001b[49m\u001b[38;5;241;43m.\u001b[39;49m\u001b[43mFIND_ELEMENT\u001b[49m\u001b[43m,\u001b[49m\u001b[43m \u001b[49m\u001b[43m{\u001b[49m\u001b[38;5;124;43m\"\u001b[39;49m\u001b[38;5;124;43musing\u001b[39;49m\u001b[38;5;124;43m\"\u001b[39;49m\u001b[43m:\u001b[49m\u001b[43m \u001b[49m\u001b[43mby\u001b[49m\u001b[43m,\u001b[49m\u001b[43m \u001b[49m\u001b[38;5;124;43m\"\u001b[39;49m\u001b[38;5;124;43mvalue\u001b[39;49m\u001b[38;5;124;43m\"\u001b[39;49m\u001b[43m:\u001b[49m\u001b[43m \u001b[49m\u001b[43mvalue\u001b[49m\u001b[43m}\u001b[49m\u001b[43m)\u001b[49m[\u001b[38;5;124m\"\u001b[39m\u001b[38;5;124mvalue\u001b[39m\u001b[38;5;124m\"\u001b[39m]\n",
      "File \u001b[1;32mc:\\Users\\SY-DKT-MUM-112\\mhcrawling\\Lib\\site-packages\\selenium\\webdriver\\remote\\webdriver.py:346\u001b[0m, in \u001b[0;36mWebDriver.execute\u001b[1;34m(self, driver_command, params)\u001b[0m\n\u001b[0;32m    344\u001b[0m response \u001b[38;5;241m=\u001b[39m \u001b[38;5;28mself\u001b[39m\u001b[38;5;241m.\u001b[39mcommand_executor\u001b[38;5;241m.\u001b[39mexecute(driver_command, params)\n\u001b[0;32m    345\u001b[0m \u001b[38;5;28;01mif\u001b[39;00m response:\n\u001b[1;32m--> 346\u001b[0m     \u001b[38;5;28;43mself\u001b[39;49m\u001b[38;5;241;43m.\u001b[39;49m\u001b[43merror_handler\u001b[49m\u001b[38;5;241;43m.\u001b[39;49m\u001b[43mcheck_response\u001b[49m\u001b[43m(\u001b[49m\u001b[43mresponse\u001b[49m\u001b[43m)\u001b[49m\n\u001b[0;32m    347\u001b[0m     response[\u001b[38;5;124m\"\u001b[39m\u001b[38;5;124mvalue\u001b[39m\u001b[38;5;124m\"\u001b[39m] \u001b[38;5;241m=\u001b[39m \u001b[38;5;28mself\u001b[39m\u001b[38;5;241m.\u001b[39m_unwrap_value(response\u001b[38;5;241m.\u001b[39mget(\u001b[38;5;124m\"\u001b[39m\u001b[38;5;124mvalue\u001b[39m\u001b[38;5;124m\"\u001b[39m, \u001b[38;5;28;01mNone\u001b[39;00m))\n\u001b[0;32m    348\u001b[0m     \u001b[38;5;28;01mreturn\u001b[39;00m response\n",
      "File \u001b[1;32mc:\\Users\\SY-DKT-MUM-112\\mhcrawling\\Lib\\site-packages\\selenium\\webdriver\\remote\\errorhandler.py:228\u001b[0m, in \u001b[0;36mErrorHandler.check_response\u001b[1;34m(self, response)\u001b[0m\n\u001b[0;32m    226\u001b[0m     \u001b[38;5;28;01melif\u001b[39;00m \u001b[38;5;124m\"\u001b[39m\u001b[38;5;124malert\u001b[39m\u001b[38;5;124m\"\u001b[39m \u001b[38;5;129;01min\u001b[39;00m value:\n\u001b[0;32m    227\u001b[0m         alert_text \u001b[38;5;241m=\u001b[39m value[\u001b[38;5;124m\"\u001b[39m\u001b[38;5;124malert\u001b[39m\u001b[38;5;124m\"\u001b[39m]\u001b[38;5;241m.\u001b[39mget(\u001b[38;5;124m\"\u001b[39m\u001b[38;5;124mtext\u001b[39m\u001b[38;5;124m\"\u001b[39m)\n\u001b[1;32m--> 228\u001b[0m     \u001b[38;5;28;01mraise\u001b[39;00m exception_class(message, screen, stacktrace, alert_text)  \u001b[38;5;66;03m# type: ignore[call-arg]  # mypy is not smart enough here\u001b[39;00m\n\u001b[0;32m    229\u001b[0m \u001b[38;5;28;01mraise\u001b[39;00m exception_class(message, screen, stacktrace)\n",
      "\u001b[1;31mUnexpectedAlertPresentException\u001b[0m: Alert Text: Index2 Villages not found..\nMessage: unexpected alert open: {Alert text : Index2 Villages not found..}\n  (Session info: chrome=121.0.6167.185)\nStacktrace:\n\tGetHandleVerifier [0x0053E123+48179]\n\t(No symbol) [0x004C5D01]\n\t(No symbol) [0x003AD72D]\n\t(No symbol) [0x0041B056]\n\t(No symbol) [0x00403A26]\n\t(No symbol) [0x003DB7BC]\n\t(No symbol) [0x003DC62D]\n\tGetHandleVerifier [0x00857C33+3299139]\n\tGetHandleVerifier [0x00895BF2+3553026]\n\tGetHandleVerifier [0x00890BCC+3532508]\n\tGetHandleVerifier [0x005D494E+664670]\n\t(No symbol) [0x004D0AB4]\n\t(No symbol) [0x004CBF08]\n\t(No symbol) [0x004CC02D]\n\t(No symbol) [0x004BDD00]\n\tBaseThreadInitThunk [0x754DFCC9+25]\n\tRtlGetAppContainerNamedObjectPath [0x77687C5E+286]\n\tRtlGetAppContainerNamedObjectPath [0x77687C2E+238]\n"
     ]
    }
   ],
   "source": [
    "\n",
    "options = webdriver.ChromeOptions() \n",
    "options.headless = False\n",
    "driver = uc.Chrome(options=options)\n",
    "wait = WebDriverWait(driver, 10)\n",
    "\n",
    "driver.get(\"https://garvibeta.gujarat.gov.in/frmPropertySearch.aspx\")\n",
    "\n",
    "from selenium.webdriver.support.select import Select\n",
    "District = []\n",
    "\n",
    "driver.find_element(By.XPATH,'//*[@id=\"ContentPlaceHolder1_cmbDistrict\"]').click()\n",
    "select = Select(driver.find_element(By.XPATH,'//*[@id=\"ContentPlaceHolder1_cmbDistrict\"]'))\n",
    "for opt in select.options:\n",
    "    District.append([opt.text,opt.get_attribute(\"value\")])\n",
    "\n",
    "District.pop(0)    \n",
    "\n",
    "District_id = []\n",
    "for i in District:\n",
    "    District_id.append(i[1])\n",
    "\n",
    "District_name = []\n",
    "for i in District:\n",
    "    District_name.append(i[0])\n",
    "\n",
    "district1 = []\n",
    "SRO1 = []\n",
    "Village1 = []\n",
    "Final_list = []\n",
    "\n",
    "for dis in District:\n",
    "#     driver.find_element(By.XPATH,'//*[@id=\"ContentPlaceHolder1_cmbDistrict\"]').click()\n",
    "    select = Select(driver.find_element(By.XPATH,'//*[@id=\"ContentPlaceHolder1_cmbDistrict\"]'))\n",
    "    select.select_by_visible_text(dis[0])\n",
    "    a = dis[1]\n",
    "    b = dis[0]\n",
    "    \n",
    "    sleep(2)\n",
    "    \n",
    "    SRO = []\n",
    "    driver.find_element(By.XPATH,'//*[@id=\"ContentPlaceHolder1_cmbofc\"]').click()\n",
    "    select = Select(driver.find_element(By.XPATH,'//*[@id=\"ContentPlaceHolder1_cmbofc\"]'))\n",
    "    for opt in select.options:\n",
    "        SRO.append([opt.text,opt.get_attribute(\"value\")])\n",
    "    SRO.pop(0)\n",
    "        \n",
    "    for sr in SRO:\n",
    "        driver.find_element(By.XPATH,'//*[@id=\"ContentPlaceHolder1_cmbofc\"]').click()\n",
    "        select = Select(driver.find_element(By.XPATH,'//*[@id=\"ContentPlaceHolder1_cmbofc\"]'))\n",
    "        select.select_by_visible_text(sr[0])\n",
    "        c = sr[1]\n",
    "        d = sr[0]\n",
    "        \n",
    "        sleep(2)\n",
    "        \n",
    "        Village = []\n",
    "        driver.find_element(By.XPATH,'//*[@id=\"ContentPlaceHolder1_ddlindex2village\"]').click()\n",
    "        select = Select(driver.find_element(By.XPATH,'//*[@id=\"ContentPlaceHolder1_ddlindex2village\"]'))\n",
    "        for opt in select.options:\n",
    "            Village.append([opt.text,opt.get_attribute(\"value\")])          \n",
    "        Village.pop(0)\n",
    "\n",
    "        for vil in Village:\n",
    "            e = vil[0]\n",
    "            f = vil[1]\n",
    "            Final_list.append([a,b,c,d,e,f])\n",
    "        print(b,d)\n",
    "        \n",
    "        sleep(2)\n",
    "    \n"
   ]
  },
  {
   "cell_type": "code",
   "execution_count": 58,
   "id": "f6729af5",
   "metadata": {},
   "outputs": [
    {
     "name": "stdout",
     "output_type": "stream",
     "text": [
      "        0                 1         2                3           4      5\n",
      "0      27  DEV BHUMI-DWARKA  27623-22  S.R.O - BHANVAD    AAMBARDI   1001\n",
      "1      27  DEV BHUMI-DWARKA  27623-22  S.R.O - BHANVAD  AMBALIYARA   1002\n",
      "2      27  DEV BHUMI-DWARKA  27623-22  S.R.O - BHANVAD     BHANGOR   1003\n",
      "3      27  DEV BHUMI-DWARKA  27623-22  S.R.O - BHANVAD     BHANVAD   1004\n",
      "4      27  DEV BHUMI-DWARKA  27623-22  S.R.O - BHANVAD   BHARATPUR   1005\n",
      "...    ..               ...       ...              ...         ...    ...\n",
      "19117  18            VALSAD  52065-44      S.R.O.-VAPI      SALVAV  10057\n",
      "19118  18            VALSAD  52065-44      S.R.O.-VAPI  TARAKPARDI  10042\n",
      "19119  18            VALSAD  52065-44      S.R.O.-VAPI    VANKACHH  10065\n",
      "19120  18            VALSAD  52065-44      S.R.O.-VAPI        VAPI  10081\n",
      "19121  18            VALSAD  52065-44      S.R.O.-VAPI       VATAR  10039\n",
      "\n",
      "[19122 rows x 6 columns]\n"
     ]
    }
   ],
   "source": [
    "# print(Final_list)\n",
    "Final_list = pd.DataFrame(Final_list)\n",
    "print(Final_list)"
   ]
  },
  {
   "cell_type": "code",
   "execution_count": 59,
   "id": "5b8e61d3",
   "metadata": {},
   "outputs": [],
   "source": [
    "# District = pd.DataFrame(District)\n",
    "# District.to_csv('GJ_Disctrict_list.csv')"
   ]
  },
  {
   "cell_type": "code",
   "execution_count": 60,
   "id": "9d7b6608",
   "metadata": {},
   "outputs": [],
   "source": [
    "Final_list.columns = ['District_name','District_id','SRO_name','SRO_id','Village_name','Village_id']"
   ]
  },
  {
   "cell_type": "code",
   "execution_count": 61,
   "id": "da77d871",
   "metadata": {},
   "outputs": [],
   "source": [
    "Final_list1 = pd.read_csv(r\"D:\\Data\\GJ\\GJ_Disctrict_SRO_Village_list.csv\")"
   ]
  },
  {
   "cell_type": "code",
   "execution_count": 62,
   "id": "d203506e",
   "metadata": {},
   "outputs": [],
   "source": [
    "Final_list1 = Final_list1.drop(['Unnamed: 0'], axis=1)"
   ]
  },
  {
   "cell_type": "code",
   "execution_count": 63,
   "id": "24c1ec63",
   "metadata": {},
   "outputs": [],
   "source": [
    "Final_list1 = pd.concat([Final_list1,Final_list],ignore_index=True)"
   ]
  },
  {
   "cell_type": "code",
   "execution_count": 64,
   "id": "a83acc6f",
   "metadata": {},
   "outputs": [
    {
     "name": "stdout",
     "output_type": "stream",
     "text": [
      "      District_name District_id  SRO_name                        SRO_id  \\\n",
      "0                12   AHMEDABAD  31929-11  S.R.O- Ahmedabad - 11 Aslali   \n",
      "1                12   AHMEDABAD  31929-11  S.R.O- Ahmedabad - 11 Aslali   \n",
      "2                12   AHMEDABAD  31929-11  S.R.O- Ahmedabad - 11 Aslali   \n",
      "3                12   AHMEDABAD  31929-11  S.R.O- Ahmedabad - 11 Aslali   \n",
      "4                12   AHMEDABAD  31929-11  S.R.O- Ahmedabad - 11 Aslali   \n",
      "...             ...         ...       ...                           ...   \n",
      "30144            18      VALSAD  52065-44                   S.R.O.-VAPI   \n",
      "30145            18      VALSAD  52065-44                   S.R.O.-VAPI   \n",
      "30146            18      VALSAD  52065-44                   S.R.O.-VAPI   \n",
      "30147            18      VALSAD  52065-44                   S.R.O.-VAPI   \n",
      "30148            18      VALSAD  52065-44                   S.R.O.-VAPI   \n",
      "\n",
      "      Village_name Village_id  \n",
      "0           ASLALI         11  \n",
      "1         BADODARA         31  \n",
      "2      BAGE-FIRDOS       1005  \n",
      "3      BAHERAMPURA          8  \n",
      "4           BAREJA         33  \n",
      "...            ...        ...  \n",
      "30144       SALVAV      10057  \n",
      "30145   TARAKPARDI      10042  \n",
      "30146     VANKACHH      10065  \n",
      "30147         VAPI      10081  \n",
      "30148        VATAR      10039  \n",
      "\n",
      "[30149 rows x 6 columns]\n"
     ]
    }
   ],
   "source": [
    "print(Final_list1)"
   ]
  },
  {
   "cell_type": "code",
   "execution_count": 65,
   "id": "de45fd69",
   "metadata": {},
   "outputs": [],
   "source": [
    "Final_list1.to_csv('GJ_Disctrict_SRO_Village_list.csv')"
   ]
  },
  {
   "cell_type": "code",
   "execution_count": null,
   "id": "b80be3f0",
   "metadata": {},
   "outputs": [],
   "source": []
  }
 ],
 "metadata": {
  "kernelspec": {
   "display_name": "mhcrawling",
   "language": "python",
   "name": "mhcrawling"
  },
  "language_info": {
   "codemirror_mode": {
    "name": "ipython",
    "version": 3
   },
   "file_extension": ".py",
   "mimetype": "text/x-python",
   "name": "python",
   "nbconvert_exporter": "python",
   "pygments_lexer": "ipython3",
   "version": "3.11.0"
  }
 },
 "nbformat": 4,
 "nbformat_minor": 5
}
